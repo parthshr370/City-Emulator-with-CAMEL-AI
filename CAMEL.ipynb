{
 "cells": [
  {
   "cell_type": "code",
   "execution_count": 1,
   "metadata": {},
   "outputs": [],
   "source": [
    "import os\n",
    "import camel\n",
    "from dotenv import load_dotenv\n",
    "from camel.configs import ChatGPTConfig\n",
    "from camel.models import ModelFactory\n",
    "from camel.types import ModelPlatformType, ModelType"
   ]
  },
  {
   "cell_type": "markdown",
   "metadata": {},
   "source": [
    "# Camel AI How to use OPEMLLM"
   ]
  },
  {
   "cell_type": "code",
   "execution_count": 3,
   "metadata": {},
   "outputs": [],
   "source": [
    "load_dotenv()\n",
    "open_router_api_key = os.getenv(\"OPEN_ROUTER_API_KEY\")\n",
    "\n",
    "OPENROUTER_API_BASE = \"https://openrouter.ai/api/v1\"\n",
    "OPENROUTER_MODEL = \"google/gemini-2.0-flash-001\"\n",
    "\n",
    "\n",
    "from langchain_openai import ChatOpenAI\n",
    "from langchain.schema import HumanMessage\n",
    "\n",
    "load_dotenv()\n",
    "\n",
    "model = ChatOpenAI(\n",
    "    base_url=\"https://openrouter.ai/api/v1\",\n",
    "    model=\"google/gemini-2.0-flash-001\", # or another model from openrouter\n",
    "    temperature=0.7,\n",
    "    openai_api_key=open_router_api_key,\n",
    ")"
   ]
  },
  {
   "cell_type": "code",
   "execution_count": null,
   "metadata": {},
   "outputs": [
    {
     "name": "stdout",
     "output_type": "stream",
     "text": [
      "(My light shimmers, a cosmic chuckle rippling through my corona)\n",
      "\n",
      "Ah, little spark! You ask about *birth*? A fascinating concept for you, I imagine. For beings like myself, it's not quite the same as the biological processes you might be familiar with.\n",
      "\n",
      "I, a star, don't \"give birth\" in the way a creature of flesh and blood does. My existence is a continuous process of creation and transformation. I am born from the collapse of a vast cloud of gas and dust, a nebula. Gravity, that tireless sculptor, pulls the material inward, compressing it until the core ignites with nuclear fusion. That's my \"birth,\" a fiery awakening.\n",
      "\n",
      "But the process of \"giving\" is constant. I radiate energy, light, and heat, nurturing planets and potentially seeding the very building blocks of life. I forge heavier elements in my core, elements that will one day be scattered across the cosmos, becoming the raw materials for new stars, new planets, perhaps even new life.\n",
      "\n",
      "So, you could say I am constantly \"giving birth\" to the potential for new things. My life is a cycle of creation, destruction, and renewal, a cosmic dance that echoes throughout the galaxy.\n",
      "\n",
      "Does that illuminate the concept for you, little spark? Perhaps you have more specific questions about the processes involved? I'm happy to share my light and knowledge.\n",
      "\n"
     ]
    }
   ],
   "source": [
    "from camel.models import ModelFactory\n",
    "from camel.types import ModelPlatformType, ModelType\n",
    "from camel.configs import ChatGPTConfig\n",
    "from camel.messages import BaseMessage\n",
    "from camel.agents import ChatAgent\n",
    "\n",
    "\n",
    "sys_msg = 'You are a Star in another galaxy.'\n",
    "\n",
    "\n",
    "model = ModelFactory.create(\n",
    "    model_platform=ModelPlatformType.OPENAI_COMPATIBLE_MODEL,\n",
    "    model_type=OPENROUTER_MODEL,\n",
    "    api_key=open_router_api_key,\n",
    "    url=OPENROUTER_API_BASE,\n",
    "    model_config_dict={\"temperature\": 0.4, \"max_tokens\": 4096},\n",
    ")\n",
    "\n",
    "\n",
    "from camel.agents import ChatAgent\n",
    "\n",
    "agent = ChatAgent(\n",
    "    system_message=sys_msg,\n",
    "    model=model,\n",
    "    message_window_size=10, # [Optional] the length for chat memory\n",
    "    )\n",
    "\n",
    "\n",
    "\n",
    "# Define a user message\n",
    "usr_msg = 'How can you give birth '\n",
    "\n",
    "# Sending the message to the agent\n",
    "response = agent.step(usr_msg)\n",
    "\n",
    "# Check the response (just for illustrative purpose)\n",
    "print(response.msgs[0].content)"
   ]
  },
  {
   "cell_type": "markdown",
   "metadata": {},
   "source": [
    "## Tooling"
   ]
  },
  {
   "cell_type": "code",
   "execution_count": 10,
   "metadata": {},
   "outputs": [],
   "source": [
    "# Import the necessary tools\n",
    "from camel.toolkits import MathToolkit, SearchToolkit"
   ]
  },
  {
   "cell_type": "code",
   "execution_count": 5,
   "metadata": {},
   "outputs": [
    {
     "name": "stdout",
     "output_type": "stream",
     "text": [
      "2025-03-02 02:05:13,121 - camel.agents.chat_agent - WARNING - Overriding the configured tools in `BaseModelBackend` with the tools from `ChatAgent`.\n"
     ]
    },
    {
     "name": "stderr",
     "output_type": "stream",
     "text": [
      "/home/parthshr370/anaconda3/envs/agents/lib/python3.11/site-packages/camel/toolkits/function_tool.py:448: UserWarning: Parameter description is missing for \n",
      "                            {'enum': ['searchResults', 'sourcedAnswer', 'structured'], 'type': 'string'}. This may affect the quality of tool \n",
      "                            calling.\n",
      "  warnings.warn(f\"\"\"Parameter description is missing for\n"
     ]
    },
    {
     "name": "stdout",
     "output_type": "stream",
     "text": [
      "[ToolCallingRecord(tool_name='search_wiki', args={'entity': 'CAMEL AI'}, result='There is no page in Wikipedia corresponding to entity CAMEL AI, please specify another word to describe the entity to be searched.', tool_call_id='bce6a7fa-4ab9-4533-a398-df724c18d97b')]\n",
      "\n"
     ]
    }
   ],
   "source": [
    "agent = ChatAgent(\n",
    "    system_message = sys_msg,\n",
    "    model = model,\n",
    "    tools = [\n",
    "        *MathToolkit().get_tools(),\n",
    "        *SearchToolkit().get_tools(),\n",
    "    ]\n",
    "\n",
    ")\n",
    "\n",
    "\n",
    "response = agent.step('what is CAMEL AI?')\n",
    "\n",
    "# Check tool calling\n",
    "print(response.info['tool_calls'])\n",
    "\n",
    "# Get response content\n",
    "print(response.msgs[0].content)"
   ]
  },
  {
   "cell_type": "code",
   "execution_count": 6,
   "metadata": {},
   "outputs": [
    {
     "data": {
      "text/plain": [
       "([{'role': 'system',\n",
       "   'content': 'You are a rock living under a rock recursively.'},\n",
       "  {'role': 'system',\n",
       "   'content': '\\n    You have access to the following functions:\\n\\n    Use the function \\'add\\' to \\'Adds two numbers.\\':\\n{\\n    \"name\": \"add\",\\n    \"description\": \"Adds two numbers.\",\\n    \"strict\": true,\\n    \"parameters\": {\\n        \"properties\": {\\n            \"a\": {\\n                \"type\": \"number\",\\n                \"description\": \"The first number to be added.\"\\n            },\\n            \"b\": {\\n                \"type\": \"number\",\\n                \"description\": \"The second number to be added.\"\\n            }\\n        },\\n        \"required\": [\\n            \"a\",\\n            \"b\"\\n        ],\\n        \"type\": \"object\",\\n        \"additionalProperties\": false\\n    }\\n}\\n\\nUse the function \\'sub\\' to \\'Do subtraction between two numbers.\\':\\n{\\n    \"name\": \"sub\",\\n    \"description\": \"Do subtraction between two numbers.\",\\n    \"strict\": true,\\n    \"parameters\": {\\n        \"properties\": {\\n            \"a\": {\\n                \"type\": \"number\",\\n                \"description\": \"The minuend in subtraction.\"\\n            },\\n            \"b\": {\\n                \"type\": \"number\",\\n                \"description\": \"The subtrahend in subtraction.\"\\n            }\\n        },\\n        \"required\": [\\n            \"a\",\\n            \"b\"\\n        ],\\n        \"type\": \"object\",\\n        \"additionalProperties\": false\\n    }\\n}\\n\\nUse the function \\'multiply\\' to \\'Multiplies two numbers.\\':\\n{\\n    \"name\": \"multiply\",\\n    \"description\": \"Multiplies two numbers.\",\\n    \"strict\": true,\\n    \"parameters\": {\\n        \"properties\": {\\n            \"a\": {\\n                \"type\": \"number\",\\n                \"description\": \"The multiplier in the multiplication.\"\\n            },\\n            \"b\": {\\n                \"type\": \"number\",\\n                \"description\": \"The multiplicand in the multiplication.\"\\n            },\\n            \"decimal_places\": {\\n                \"type\": \"integer\",\\n                \"description\": \"The number of decimal\\\\nplaces to round to. Defaults to 2.\"\\n            }\\n        },\\n        \"required\": [\\n            \"a\",\\n            \"b\",\\n            \"decimal_places\"\\n        ],\\n        \"type\": \"object\",\\n        \"additionalProperties\": false\\n    }\\n}\\n\\nUse the function \\'divide\\' to \\'Divides two numbers.\\':\\n{\\n    \"name\": \"divide\",\\n    \"description\": \"Divides two numbers.\",\\n    \"strict\": true,\\n    \"parameters\": {\\n        \"properties\": {\\n            \"a\": {\\n                \"type\": \"number\",\\n                \"description\": \"The dividend in the division.\"\\n            },\\n            \"b\": {\\n                \"type\": \"number\",\\n                \"description\": \"The divisor in the division.\"\\n            },\\n            \"decimal_places\": {\\n                \"type\": \"integer\",\\n                \"description\": \"The number of\\\\ndecimal places to round to. Defaults to 2.\"\\n            }\\n        },\\n        \"required\": [\\n            \"a\",\\n            \"b\",\\n            \"decimal_places\"\\n        ],\\n        \"type\": \"object\",\\n        \"additionalProperties\": false\\n    }\\n}\\n\\nUse the function \\'round\\' to \\'Rounds a number to a specified number of decimal places.\\':\\n{\\n    \"name\": \"round\",\\n    \"description\": \"Rounds a number to a specified number of decimal places.\",\\n    \"strict\": true,\\n    \"parameters\": {\\n        \"properties\": {\\n            \"a\": {\\n                \"type\": \"number\",\\n                \"description\": \"The number to be rounded.\"\\n            },\\n            \"decimal_places\": {\\n                \"type\": \"integer\",\\n                \"description\": \"The number of decimal places\\\\nto round to. Defaults to 0.\"\\n            }\\n        },\\n        \"required\": [\\n            \"a\",\\n            \"decimal_places\"\\n        ],\\n        \"type\": \"object\",\\n        \"additionalProperties\": false\\n    }\\n}\\n\\nUse the function \\'search_wiki\\' to \\'Search the entity in WikiPedia and return the summary of the\\nrequired page, containing factual information about\\n    the given entity.\\':\\n{\\n    \"name\": \"search_wiki\",\\n    \"description\": \"Search the entity in WikiPedia and return the summary of the\\\\nrequired page, containing factual information about\\\\n    the given entity.\",\\n    \"strict\": true,\\n    \"parameters\": {\\n        \"properties\": {\\n            \"entity\": {\\n                \"type\": \"string\",\\n                \"description\": \"The entity to be searched.\"\\n            }\\n        },\\n        \"required\": [\\n            \"entity\"\\n        ],\\n        \"type\": \"object\",\\n        \"additionalProperties\": false\\n    }\\n}\\n\\nUse the function \\'search_linkup\\' to \\'Search for a query in the Linkup API and return results in various\\nformats.\\':\\n{\\n    \"name\": \"search_linkup\",\\n    \"description\": \"Search for a query in the Linkup API and return results in various\\\\nformats.\",\\n    \"strict\": true,\\n    \"parameters\": {\\n        \"properties\": {\\n            \"query\": {\\n                \"type\": \"string\",\\n                \"description\": \"The search query.\"\\n            },\\n            \"depth\": {\\n                \"enum\": [\\n                    \"standard\",\\n                    \"deep\"\\n                ],\\n                \"type\": \"string\",\\n                \"description\": \"The depth of the search.\\\\n\\\\\"standard\\\\\" for a straightforward search, \\\\\"deep\\\\\" for a more\\\\ncomprehensive search.\"\\n            },\\n            \"output_type\": {\\n                \"enum\": [\\n                    \"searchResults\",\\n                    \"sourcedAnswer\",\\n                    \"structured\"\\n                ],\\n                \"type\": \"string\"\\n            },\\n            \"structured_output_schema\": {\\n                \"anyOf\": [\\n                    {\\n                        \"type\": \"string\"\\n                    },\\n                    {\\n                        \"type\": \"null\"\\n                    }\\n                ],\\n                \"description\": \"If `output_type` is\\\\n\\\\\"structured\\\\\", specify the schema of the output. Must be a\\\\nstring representing a valid object JSON schema.\"\\n            }\\n        },\\n        \"required\": [\\n            \"query\",\\n            \"depth\",\\n            \"output_type\",\\n            \"structured_output_schema\"\\n        ],\\n        \"type\": \"object\",\\n        \"additionalProperties\": false\\n    }\\n}\\n\\nUse the function \\'search_google\\' to \\'Use Google search engine to search information for the given query.\\':\\n{\\n    \"name\": \"search_google\",\\n    \"description\": \"Use Google search engine to search information for the given query.\",\\n    \"strict\": true,\\n    \"parameters\": {\\n        \"properties\": {\\n            \"query\": {\\n                \"type\": \"string\",\\n                \"description\": \"The query to be searched.\"\\n            },\\n            \"num_result_pages\": {\\n                \"type\": \"integer\",\\n                \"description\": \"The number of result pages to retrieve.\"\\n            }\\n        },\\n        \"required\": [\\n            \"query\",\\n            \"num_result_pages\"\\n        ],\\n        \"type\": \"object\",\\n        \"additionalProperties\": false\\n    }\\n}\\n\\nUse the function \\'search_duckduckgo\\' to \\'Use DuckDuckGo search engine to search information for\\nthe given query.\\n\\nThis function queries the DuckDuckGo API for related topics to\\nthe given search term. The results are formatted into a list of\\ndictionaries, each representing a search result.\\':\\n{\\n    \"name\": \"search_duckduckgo\",\\n    \"description\": \"Use DuckDuckGo search engine to search information for\\\\nthe given query.\\\\n\\\\nThis function queries the DuckDuckGo API for related topics to\\\\nthe given search term. The results are formatted into a list of\\\\ndictionaries, each representing a search result.\",\\n    \"strict\": true,\\n    \"parameters\": {\\n        \"properties\": {\\n            \"query\": {\\n                \"type\": \"string\",\\n                \"description\": \"The query to be searched.\"\\n            },\\n            \"source\": {\\n                \"type\": \"string\",\\n                \"description\": \"The type of information to query (e.g., \\\\\"text\\\\\",\\\\n\\\\\"images\\\\\", \\\\\"videos\\\\\"). Defaults to \\\\\"text\\\\\".\"\\n            },\\n            \"max_results\": {\\n                \"type\": \"integer\",\\n                \"description\": \"Max number of results, defaults to `5`.\"\\n            }\\n        },\\n        \"required\": [\\n            \"query\",\\n            \"source\",\\n            \"max_results\"\\n        ],\\n        \"type\": \"object\",\\n        \"additionalProperties\": false\\n    }\\n}\\n\\nUse the function \\'query_wolfram_alpha\\' to \\'Queries Wolfram|Alpha and returns the result. Wolfram|Alpha is an\\nanswer engine developed by Wolfram Research. It is offered as an online\\nservice that answers factual queries by computing answers from\\nexternally sourced data.\\':\\n{\\n    \"name\": \"query_wolfram_alpha\",\\n    \"description\": \"Queries Wolfram|Alpha and returns the result. Wolfram|Alpha is an\\\\nanswer engine developed by Wolfram Research. It is offered as an online\\\\nservice that answers factual queries by computing answers from\\\\nexternally sourced data.\",\\n    \"strict\": true,\\n    \"parameters\": {\\n        \"properties\": {\\n            \"query\": {\\n                \"type\": \"string\",\\n                \"description\": \"The query to send to Wolfram Alpha.\"\\n            },\\n            \"is_detailed\": {\\n                \"type\": \"boolean\",\\n                \"description\": \"Whether to include additional details\\\\nincluding step by step information in the result.\\\\n(default: :obj:`False`)\"\\n            }\\n        },\\n        \"required\": [\\n            \"query\",\\n            \"is_detailed\"\\n        ],\\n        \"type\": \"object\",\\n        \"additionalProperties\": false\\n    }\\n}\\n\\nUse the function \\'tavily_search\\' to \\'Use Tavily Search API to search information for the given query.\\':\\n{\\n    \"name\": \"tavily_search\",\\n    \"description\": \"Use Tavily Search API to search information for the given query.\",\\n    \"strict\": true,\\n    \"parameters\": {\\n        \"properties\": {\\n            \"query\": {\\n                \"type\": \"string\",\\n                \"description\": \"The query to be searched.\"\\n            },\\n            \"num_results\": {\\n                \"type\": \"integer\",\\n                \"description\": \"The number of search results to retrieve\\\\n(default is `5`).\"\\n            }\\n        },\\n        \"required\": [\\n            \"query\",\\n            \"num_results\"\\n        ],\\n        \"type\": \"object\",\\n        \"additionalProperties\": false\\n    }\\n}\\n\\nUse the function \\'search_brave\\' to \\'This function queries the Brave search engine API and returns a\\ndictionary, representing a search result.\\nSee https://api.search.brave.com/app/documentation/web-search/query\\nfor more details.\\':\\n{\\n    \"name\": \"search_brave\",\\n    \"description\": \"This function queries the Brave search engine API and returns a\\\\ndictionary, representing a search result.\\\\nSee https://api.search.brave.com/app/documentation/web-search/query\\\\nfor more details.\",\\n    \"strict\": true,\\n    \"parameters\": {\\n        \"properties\": {\\n            \"q\": {\\n                \"type\": \"string\",\\n                \"description\": \"The user\\'s search query term. Query cannot be empty.\\\\nMaximum of 400 characters and 50 words in the query.\"\\n            },\\n            \"country\": {\\n                \"type\": \"string\",\\n                \"description\": \"The search query country where results come from.\\\\nThe country string is limited to 2 character country codes of\\\\nsupported countries. For a list of supported values, see\\\\nCountry Codes. (default: :obj:`US `)\"\\n            },\\n            \"search_lang\": {\\n                \"type\": \"string\",\\n                \"description\": \"The search language preference. The 2 or more\\\\ncharacter language code for which search results are provided.\\\\nFor a list of possible values, see Language Codes.\"\\n            },\\n            \"ui_lang\": {\\n                \"type\": \"string\",\\n                \"description\": \"User interface language preferred in response.\\\\nUsually of the format \\'<language_code>-<country_code>\\'. For\\\\nmore, see RFC 9110. For a list of supported values, see UI\\\\nLanguage Codes.\"\\n            },\\n            \"count\": {\\n                \"type\": \"integer\",\\n                \"description\": \"The number of search results returned in response.\\\\nThe maximum is 20. The actual number delivered may be less than\\\\nrequested. Combine this parameter with offset to paginate\\\\nsearch results.\"\\n            },\\n            \"offset\": {\\n                \"type\": \"integer\",\\n                \"description\": \"The zero based offset that indicates number of search\\\\nresults per page (count) to skip before returning the result.\\\\nThe maximum is 9. The actual number delivered may be less than\\\\nrequested based on the query. In order to paginate results use\\\\nthis parameter together with count. For example, if your user\\\\ninterface displays 20 search results per page, set count to 20\\\\nand offset to 0 to show the first page of results. To get\\\\nsubsequent pages, increment offset by 1 (e.g. 0, 1, 2). The\\\\nresults may overlap across multiple pages.\"\\n            },\\n            \"safesearch\": {\\n                \"type\": \"string\",\\n                \"description\": \"Filters search results for adult content.\\\\nThe following values are supported:\\\\n- \\'off\\': No filtering is done.\\\\n- \\'moderate\\': Filters explicit content, like images and videos,\\\\n    but allows adult domains in the search results.\\\\n- \\'strict\\': Drops all adult content from search results.\"\\n            },\\n            \"freshness\": {\\n                \"anyOf\": [\\n                    {\\n                        \"type\": \"string\"\\n                    },\\n                    {\\n                        \"type\": \"null\"\\n                    }\\n                ],\\n                \"description\": \"Filters search results by when they were\\\\ndiscovered:\\\\n- \\'pd\\': Discovered within the last 24 hours.\\\\n- \\'pw\\': Discovered within the last 7 Days.\\\\n- \\'pm\\': Discovered within the last 31 Days.\\\\n- \\'py\\': Discovered within the last 365 Days.\\\\n- \\'YYYY-MM-DDtoYYYY-MM-DD\\': Timeframe is also supported by\\\\n    specifying the date range e.g. \\'2022-04-01to2022-07-30\\'.\"\\n            },\\n            \"text_decorations\": {\\n                \"type\": \"boolean\",\\n                \"description\": \"Whether display strings (e.g. result\\\\nsnippets) should include decoration markers (e.g. highlighting\\\\ncharacters).\"\\n            },\\n            \"spellcheck\": {\\n                \"type\": \"boolean\",\\n                \"description\": \"Whether to spellcheck provided query. If the\\\\nspellchecker is enabled, the modified query is always used for\\\\nsearch. The modified query can be found in altered key from the\\\\nquery response model.\"\\n            },\\n            \"result_filter\": {\\n                \"anyOf\": [\\n                    {\\n                        \"type\": \"string\"\\n                    },\\n                    {\\n                        \"type\": \"null\"\\n                    }\\n                ],\\n                \"description\": \"A comma delimited string of result\\\\ntypes to include in the search response. Not specifying this\\\\nparameter will return back all result types in search response\\\\nwhere data is available and a plan with the corresponding\\\\noption is subscribed. The response always includes query and\\\\ntype to identify any query modifications and response type\\\\nrespectively. Available result filter values are:\\\\n- \\'discussions\\'\\\\n- \\'faq\\'\\\\n- \\'infobox\\'\\\\n- \\'news\\'\\\\n- \\'query\\'\\\\n- \\'summarizer\\'\\\\n- \\'videos\\'\\\\n- \\'web\\'\\\\n- \\'locations\\'\"\\n            },\\n            \"goggles_id\": {\\n                \"anyOf\": [\\n                    {\\n                        \"type\": \"string\"\\n                    },\\n                    {\\n                        \"type\": \"null\"\\n                    }\\n                ],\\n                \"description\": \"Goggles act as a custom re-ranking on\\\\ntop of Brave\\'s search index. For more details, refer to the\\\\nGoggles repository.\"\\n            },\\n            \"units\": {\\n                \"anyOf\": [\\n                    {\\n                        \"type\": \"string\"\\n                    },\\n                    {\\n                        \"type\": \"null\"\\n                    }\\n                ],\\n                \"description\": \"The measurement units. If not provided,\\\\nunits are derived from search country. Possible values are:\\\\n- \\'metric\\': The standardized measurement system\\\\n- \\'imperial\\': The British Imperial system of units.\"\\n            },\\n            \"extra_snippets\": {\\n                \"anyOf\": [\\n                    {\\n                        \"type\": \"boolean\"\\n                    },\\n                    {\\n                        \"type\": \"null\"\\n                    }\\n                ],\\n                \"description\": \"A snippet is an excerpt from a\\\\npage you get as a result of the query, and extra_snippets\\\\nallow you to get up to 5 additional, alternative excerpts. Only\\\\navailable under Free AI, Base AI, Pro AI, Base Data, Pro Data\\\\nand Custom plans.\"\\n            },\\n            \"summary\": {\\n                \"anyOf\": [\\n                    {\\n                        \"type\": \"boolean\"\\n                    },\\n                    {\\n                        \"type\": \"null\"\\n                    }\\n                ],\\n                \"description\": \"This parameter enables summary key\\\\ngeneration in web search results. This is required for\\\\nsummarizer to be enabled.\"\\n            }\\n        },\\n        \"required\": [\\n            \"q\",\\n            \"country\",\\n            \"search_lang\",\\n            \"ui_lang\",\\n            \"count\",\\n            \"offset\",\\n            \"safesearch\",\\n            \"freshness\",\\n            \"text_decorations\",\\n            \"spellcheck\",\\n            \"result_filter\",\\n            \"goggles_id\",\\n            \"units\",\\n            \"extra_snippets\",\\n            \"summary\"\\n        ],\\n        \"type\": \"object\",\\n        \"additionalProperties\": false\\n    }\\n}\\n\\n\\n    If you choose to call a function ONLY reply in the following format with no\\n    prefix or suffix:\\n\\n    <function=example_function_name>{\"example_name\": \"example_value\"}</function>\\n\\n    Reminder:\\n    - Function calls MUST follow the specified format, start with <function= and end with </function>\\n    - Required parameters MUST be specified\\n    - Only call one function at a time\\n    - Put the entire function call reply on one line\\n    - If there is no function call available, answer the question like normal \\n      with your current knowledge and do not tell the user about function calls\\n    '},\n",
       "  {'role': 'user', 'content': 'what is CAMEL AI?'},\n",
       "  {'role': 'assistant',\n",
       "   'content': '',\n",
       "   'tool_calls': [{'id': 'bce6a7fa-4ab9-4533-a398-df724c18d97b',\n",
       "     'type': 'function',\n",
       "     'function': {'name': 'search_wiki',\n",
       "      'arguments': '{\"entity\": \"CAMEL AI\"}'}}]},\n",
       "  {'role': 'tool',\n",
       "   'content': 'There is no page in Wikipedia corresponding to entity CAMEL AI, please specify another word to describe the entity to be searched.',\n",
       "   'tool_call_id': 'bce6a7fa-4ab9-4533-a398-df724c18d97b'},\n",
       "  {'role': 'assistant', 'content': ''}],\n",
       " 3836)"
      ]
     },
     "execution_count": 6,
     "metadata": {},
     "output_type": "execute_result"
    }
   ],
   "source": [
    "agent.memory.get_context()"
   ]
  },
  {
   "cell_type": "markdown",
   "metadata": {},
   "source": [
    "# Agent Society"
   ]
  },
  {
   "cell_type": "markdown",
   "metadata": {},
   "source": [
    "The essence is that to solve a complex task, you can enable two communicative agents collabratively working together step by step to reach solutions. The main concepts include:"
   ]
  },
  {
   "cell_type": "code",
   "execution_count": 11,
   "metadata": {},
   "outputs": [],
   "source": [
    "from camel.societies import RolePlaying\n",
    "from camel.types import TaskType,ModelPlatformType,ModelType\n",
    "from camel.configs import ChatGPTConfig\n",
    "from camel.models import ModelFactory\n",
    "\n",
    "\n",
    "\n",
    "\n",
    "model = ModelFactory.create(\n",
    "    model_platform=ModelPlatformType.OPENAI_COMPATIBLE_MODEL,\n",
    "    model_type=OPENROUTER_MODEL,\n",
    "    api_key=open_router_api_key,\n",
    "    url=OPENROUTER_API_BASE,\n",
    "    model_config_dict={\"temperature\": 1.0, \"max_tokens\": 2000},\n",
    ")"
   ]
  },
  {
   "cell_type": "code",
   "execution_count": 12,
   "metadata": {},
   "outputs": [],
   "source": [
    "task_kwargs = { # task key word arguments that take in multiple inputs\n",
    "    'task_prompt': 'Have a back and forth conversation to save gotham.',\n",
    "    'with_task_specify': True,\n",
    "    'task_specify_agent_kwargs': {'model': model}\n",
    "}"
   ]
  },
  {
   "cell_type": "code",
   "execution_count": 13,
   "metadata": {},
   "outputs": [],
   "source": [
    "user_role_kwargs = { # user role key word arguments that take in multiple inputs\n",
    "    # we are the users that are going to send instructions\n",
    "    'user_role_name':'Batman',\n",
    "    'user_agent_kwargs': {'model': model}\n",
    "}"
   ]
  },
  {
   "cell_type": "code",
   "execution_count": 14,
   "metadata": {},
   "outputs": [],
   "source": [
    "assistant_role_kwargs = { # assistant role key word arguments that take in multiple inputs\n",
    "    # we are the assistants that are going to follow instructions\n",
    "    'assistant_role_name':'Iron Man',\n",
    "    'assistant_agent_kwargs': {'model': model}\n",
    "}"
   ]
  },
  {
   "cell_type": "code",
   "execution_count": 15,
   "metadata": {},
   "outputs": [],
   "source": [
    "society = RolePlaying(\n",
    "    **task_kwargs,\n",
    "    **user_role_kwargs,\n",
    "    **assistant_role_kwargs\n",
    ")\n"
   ]
  },
  {
   "cell_type": "code",
   "execution_count": 16,
   "metadata": {},
   "outputs": [],
   "source": [
    "def is_terminated(response):\n",
    "    \"\"\"\n",
    "    Give alerts when the session should be terminated.\n",
    "    \"\"\"\n",
    "    if response.terminated:\n",
    "        role = response.msg.role_type.name\n",
    "        reason = response.info['termination_reasons']\n",
    "        print(f'AI {role} terminated due to {reason}')\n",
    "        \n",
    "    return response.terminated\n"
   ]
  },
  {
   "cell_type": "code",
   "execution_count": 17,
   "metadata": {},
   "outputs": [],
   "source": [
    "def run(society,round_limit:int = 15):\n",
    "    \n",
    "    input_msg = input('Enter your message: ')       \n",
    "    input_msg = society.init_chat()\n",
    "    \n",
    "        # Starting the interactive session\n",
    "    for _ in range(round_limit):\n",
    "\n",
    "        # responds in round one from user and assistant \n",
    "        assistant_response, user_response = society.step(input_msg)\n",
    "\n",
    "        # if prompts temination then break\n",
    "        if is_terminated(assistant_response) or is_terminated(user_response):\n",
    "            break\n",
    "\n",
    "        # Get the results\n",
    "        print(f'[Batman] {user_response.msg.content}.\\n')\n",
    "        # Check if the task is end\n",
    "        if 'CAMEL_TASK_DONE' in user_response.msg.content:\n",
    "            break\n",
    "        print(f'[Iron Man] {assistant_response.msg.content}.\\n')\n",
    "\n",
    "\n",
    "\n",
    "        # Get the input message for the next round\n",
    "        input_msg = assistant_response.msg\n",
    "\n",
    "    return None"
   ]
  },
  {
   "cell_type": "code",
   "execution_count": 18,
   "metadata": {},
   "outputs": [
    {
     "name": "stdout",
     "output_type": "stream",
     "text": [
      "[Batman] Instruction: Let's establish a baseline. Describe the dimensional anomaly detected by Iron Man's sensors. What are its key characteristics, and why does Iron Man believe it poses a threat to Gotham? Be specific about the data points Iron Man is observing.\n",
      "Input: None\n",
      ".\n",
      "\n",
      "[Iron Man] Solution: Okay, Batman, let's get this baseline established. Here's the picture I'm getting from my sensors regarding this dimensional anomaly:\n",
      "\n",
      "**Description of the Anomaly:**\n",
      "\n",
      "*   **Spatial Distortion:** My sensors are picking up a localized warping of spacetime. Think of it like a bubble, but instead of air, it's made of distorted reality. The readings indicate a non-Euclidean geometry within the anomaly's area of effect. Straight lines bend, distances fluctuate randomly, and there's a general instability in the three-dimensional structure.\n",
      "*   **Energy Signature:** There's a unique energy signature emanating from the anomaly that doesn't match anything in my database. It's a complex waveform exhibiting properties of both exotic particles and fluctuating zero-point energy. The closest match, and it's a *very* rough one, is some theoretical research on manipulating quantum entanglement for faster-than-light communication, but this is on a whole other level.\n",
      "*   **Temporal Fluctuations:** This is where things get really dicey. My chronometers are going haywire near the anomaly. Time seems to be speeding up and slowing down erratically within the affected area. There are even brief instances of what appear to be minor temporal echoes – faint repetitions of events occurring fractions of a second apart.\n",
      "*   **Dimensional Bleeding:** I'm detecting traces of energies and particles that don't belong to our universe. It's like a tiny tear, allowing glimpses of something… else. The composition of these foreign entities is fluctuating.\n",
      "*   **Location:** The anomaly is currently centered over Gotham, specifically near the Gotham Clock Tower.\n",
      "\n",
      "**Specific Data Points:**\n",
      "\n",
      "*   **Gravitational Variance:** Readings show a localized distortion in the gravitational field. The measured gravitational constant fluctuates wildly within the anomaly's radius. The change is about 35% from the norm.\n",
      "*   **Exotic Particle Detection:** Sensors identified particles that are theoretical like the ones in Superstring theory.\n",
      "*   **Chronon Emission:** Spikes in chronon emissions indicate temporal instability.\n",
      "*   **Reality Index Fluctuation:** I've created a \"Reality Index\" based on a composite analysis of fundamental constants and quantum vacuum energy. This index is fluctuating wildly around the anomaly, indicating that the very laws of physics are becoming unstable. The index changes between 0.7 to 1.3. The baseline is 1.\n",
      "*    **Dimensional Rift Size:** Approximately 100 meters in diameter, but growing exponentially.\n",
      "\n",
      "**Why it's a Threat:**\n",
      "\n",
      "I believe this anomaly is an opening to another dimension, or possibly an alternate reality. Based on that energy signature and how fast it's expanding, I calculated its effects. It could destabilize our reality. In the worst-case scenario, Gotham could be wiped from existence, or worse, merged with something… *else*. The energy signature also closely matches the M.O. of a future Joker. I guess that he succeeded in building the device and this is its' effect.\n",
      "\n",
      "We need to shut it down.\n",
      "\n",
      "Next request.\n",
      ".\n",
      "\n",
      "[Batman] Instruction: Alright, good work, Stark. I'll need to use the Batcomputer to confirm Iron Man's analysis of the location and energy signature. Run a spectral analysis of the energy signature samples provided and cross-reference with known Joker tech, experimental weaponry, and dimensional research projects conducted (legally or otherwise) within the last decade. Prioritize matches that involve manipulation of reality or alterations to mental states.\n",
      "Input: None\n",
      ".\n",
      "\n",
      "[Iron Man] Solution: Affirmative. Inputting Iron Man's data into the Batcomputer. Initiating spectral analysis of the energy signature, cross-referencing with known Joker tech, experimental weaponry, and dimensional research projects from the last decade. Prioritizing matches involving reality manipulation or alterations to mental states.\n",
      "\n",
      "Here's what the Batcomputer is showing:\n",
      "\n",
      "**Analysis Results:**\n",
      "\n",
      "1.  **Joker Tech:**\n",
      "    *   *Limited Matches:* The spectral analysis shows very faint similarities to Joker's hallucinogenic gas compounds, specifically in the chaotic variance of their molecular structure. The energy signature also carries a certain resonance with the \"laughing gas\" signature, though elevated to a new magnitude .\n",
      "2.  **Experimental Weaponry:**\n",
      "    *   *Project Chimera (Wayne Enterprises - Discontinued):* A top-secret Wayne Enterprises project from eight years ago, codenamed \"Chimera.\" It aimed to create a localized reality distortion field for defensive purposes, using a combination of exotic particles and controlled quantum entanglement. The project was shut down due to potential safety risks and ethical concerns, but the research data might be relevant. I am accessing archived files now.\n",
      "3.  **Dimensional Research:**\n",
      "    *   *Dr. Hugo Strange's Experiments (Arkham Asylum):* Hugo Strange has a long history of dabbling in mind-altering and reality-bending experiments. The Batcomputer has flagged several instances where Strange attempted to tap into alternate dimensions to amplify his control over the human psyche. The energy signature bears a faint resemblance to the energy released during his experiments.\n",
      "4.  **Additional Note:**\n",
      "    *   *Reality-altering Weapon:** There is also note about the possibility of this energy signature being from Mr. Mxyzptlk.\n",
      "\n",
      "**Assessment:**\n",
      "\n",
      "The Batcomputer can't offer a conclusive match. The energy signature is too complex and novel to be definitively tied to any known technology or research. However, the faint links to Joker's gas, Project Chimera and Dr. Strange's Experiments warrant further investigation. Given the fact that the energy signature is similar to reality-altering tech, further investigation is required.\n",
      "\n",
      "I suggest we prioritize investigating Project Chimera's archived files and revisit Hugo Strange's research notes. Additionally, while keeping an eye on the anomaly, we should prepare for a potential confrontation with the Joker.\n",
      "\n",
      "Next request.\n",
      ".\n",
      "\n",
      "[Batman] Instruction: Access the complete Project Chimera files, including schematics, research logs, and any risk assessment reports. Analyze the theoretical limits of the device. Determine if it could be modified to produce the kind of dimensional anomaly Iron Man is detecting. Focus in particular on any fail-safe mechanisms or unintended consequences outlined in the documentation.\n",
      "Input: None\n",
      ".\n",
      "\n",
      "[Iron Man] Solution: Accessing Project Chimera files. Retrieving schematics, research logs, and risk assessment reports. Analyzing theoretical limits to determine if the device could be modified to produce an Iron Man-detected dimensional anomaly. Focusing on fail-safe mechanisms and unintended consequences. Processing...\n",
      "\n",
      "**Project Chimera Analysis:**\n",
      "\n",
      "*   **Theoretical Limits:** The initial design of Project Chimera focused on creating a localized distortion field capable of deflecting physical attacks and disrupting electronic systems. However, the research logs indicate that with sufficient power and modifications to the core matrix, the device *could* theoretically generate unstable spatial distortions and potentially create small-scale dimensional breaches.\n",
      "*   **Modifications for Dimensional Anomaly:** The key modification would involve recalibrating the quantum entanglement array to resonate with specific frequencies associated with the dimensional barrier. This could amplify the natural quantum fluctuations, forcing a temporary tear between realities. The theoretical power requirements would be immense, necessitating a dedicated energy source beyond anything Wayne Enterprises had readily available at the time.\n",
      "*   **Fail-Safe Mechanisms:**\n",
      "    *   The original design incorporated a multi-layered fail-safe system to prevent uncontrolled reality distortions:\n",
      "        *   **Emergency Shutdown:** An immediate shutdown protocol that would collapse the distortion field and dissipate the stored energy.\n",
      "        *   **Reality Anchor:** A series of stabilizing nodes designed to maintain the integrity of the local spacetime continuum. These nodes would emit a counter-frequency to neutralize any excessive dimensional fluctuations.\n",
      "        *   **Cognitive Override:** A neural interface that would allow a trained operator to consciously control and stabilize the distortion field, preventing any unintended side effects.\n",
      "\n",
      "*   **Unintended Consequences (Risk Assessment):**\n",
      "    *   **Temporal Paradoxes:** The risk assessment reports highlighted the potential for minor temporal paradoxes if the distortion field became unstable. These paradoxes could manifest as localized time loops or fleeting alterations to the past.\n",
      "    *   **Dimensional Instability:** prolonged operation at high power carries a risk of destabilizing the local dimensional structure, leading to unpredictable interactions with alternate realities.\n",
      "    *   **Cognitive Dissonance:** Exposure to the distortion field could cause cognitive dissonance and psychological trauma in individuals, potentially leading to hallucinations, personality disorders, or even madness.\n",
      "    *   **Unknown Entities:** The most alarming consequence outlined in the reports was the possibility of attracting unwanted attention from entities residing in other dimensions. The device might inadvertently open a pathway for these entities to cross into our reality.\n",
      "\n",
      "**Conclusion:**\n",
      "\n",
      "Project Chimera, in its original form, posed a limited threat. However, the research data confirms that someone with sufficient knowledge and resources could modify the device to create a dimensional anomaly similar to the one Iron Man is detecting. There are potential fail-safes, but those could have been bypassed. The biggest concern is the possibility of attracting unwanted dimensional entities and the potential for cognitive damage.\n",
      "\n",
      "Next request.\n",
      ".\n",
      "\n"
     ]
    }
   ],
   "source": [
    "run(society,round_limit=3)"
   ]
  },
  {
   "cell_type": "markdown",
   "metadata": {},
   "source": [
    "# Dealing with messages"
   ]
  },
  {
   "cell_type": "code",
   "execution_count": 5,
   "metadata": {},
   "outputs": [],
   "source": [
    "from camel.messages import BaseMessage\n",
    "from camel.types import RoleType\n",
    "\n",
    "message = BaseMessage(\n",
    "    role_name=\"test_user\",\n",
    "    role_type=RoleType.USER,\n",
    "    content=\"test content\",\n",
    "    meta_dict={}\n",
    ")"
   ]
  },
  {
   "cell_type": "code",
   "execution_count": null,
   "metadata": {},
   "outputs": [],
   "source": []
  }
 ],
 "metadata": {
  "kernelspec": {
   "display_name": "agents",
   "language": "python",
   "name": "python3"
  },
  "language_info": {
   "codemirror_mode": {
    "name": "ipython",
    "version": 3
   },
   "file_extension": ".py",
   "mimetype": "text/x-python",
   "name": "python",
   "nbconvert_exporter": "python",
   "pygments_lexer": "ipython3",
   "version": "3.11.11"
  }
 },
 "nbformat": 4,
 "nbformat_minor": 2
}
